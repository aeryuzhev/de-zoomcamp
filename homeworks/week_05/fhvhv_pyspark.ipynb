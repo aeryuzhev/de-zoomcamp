{
 "cells": [
  {
   "cell_type": "code",
   "execution_count": 11,
   "metadata": {},
   "outputs": [],
   "source": [
    "FHVHV_FILE = \"fhvhv_tripdata_2021-06.csv.gz\"\n",
    "ZONES_FILE = \"taxi_zone_lookup.csv\"\n",
    "INPUT_PATH = \"data/raw\"\n",
    "OUTPUT_PATH = \"data/pq\"\n",
    "\n",
    "URL_FILES = [\n",
    "    f\"https://github.com/DataTalksClub/nyc-tlc-data/releases/download/fhvhv/{FHVHV_FILE}\",\n",
    "    f\"https://github.com/DataTalksClub/nyc-tlc-data/releases/download/misc/{ZONES_FILE}\",\n",
    "]"
   ]
  },
  {
   "cell_type": "code",
   "execution_count": 12,
   "metadata": {},
   "outputs": [],
   "source": [
    "from pathlib import Path\n",
    "from urllib import request\n",
    "\n",
    "for url in URL_FILES:\n",
    "    file_type = url.split(\"/\")[-2]\n",
    "    file_name = url.split(\"/\")[-1]\n",
    "    local_directory = f\"{INPUT_PATH}/{file_type}\"\n",
    "    input_path = f\"{local_directory}/{file_name}\"\n",
    "    \n",
    "    Path(local_directory).mkdir(parents=True, exist_ok=True)\n",
    "    request.urlretrieve(url, input_path)"
   ]
  },
  {
   "cell_type": "code",
   "execution_count": 13,
   "metadata": {},
   "outputs": [],
   "source": [
    "import pyspark\n",
    "from pyspark.sql import SparkSession, types\n",
    "from pyspark.sql import functions as F\n",
    "\n",
    "spark = (\n",
    "    SparkSession.builder\n",
    "    .master(\"local[*]\")\n",
    "    .appName(\"Homework_05\")\n",
    "    .getOrCreate()\n",
    ")"
   ]
  },
  {
   "cell_type": "code",
   "execution_count": 14,
   "metadata": {},
   "outputs": [
    {
     "name": "stderr",
     "output_type": "stream",
     "text": [
      "                                                                                \r"
     ]
    }
   ],
   "source": [
    "input_path = f\"{INPUT_PATH}/fhvhv/\"\n",
    "output_path = f\"{OUTPUT_PATH}/fhvhv/\"\n",
    "\n",
    "fhvhv_schema = types.StructType([\n",
    "    types.StructField('dispatching_base_num', types.StringType(), True),\n",
    "    types.StructField('pickup_datetime', types.TimestampType(), True),\n",
    "    types.StructField('dropoff_datetime', types.TimestampType(), True),\n",
    "    types.StructField('PULocationID', types.IntegerType(), True),\n",
    "    types.StructField('DOLocationID', types.IntegerType(), True),\n",
    "    types.StructField('SR_Flag', types.StringType(), True),\n",
    "    types.StructField('Affiliated_base_number', types.StringType(), True)\n",
    "])\n",
    "\n",
    "fhvhv_df = (\n",
    "    spark.read\n",
    "    .option(\"header\", \"true\")\n",
    "    .schema(fhvhv_schema)\n",
    "    .csv(input_path)\n",
    ")\n",
    "\n",
    "fhvhv_df \\\n",
    "    .repartition(12) \\\n",
    "    .write.parquet(output_path, mode=\"overwrite\")\n",
    "    \n",
    "fhvhv_df.createOrReplaceTempView(\"fhvhv_trips\")"
   ]
  },
  {
   "cell_type": "code",
   "execution_count": 15,
   "metadata": {},
   "outputs": [],
   "source": [
    "input_path = f\"{INPUT_PATH}/misc/\"\n",
    "output_path = f\"{OUTPUT_PATH}/misc/\"\n",
    "\n",
    "zones_schema = types.StructType([\n",
    "    types.StructField('LocationID', types.IntegerType(), True),\n",
    "    types.StructField('Borough', types.StringType(), True),\n",
    "    types.StructField('Zone', types.StringType(), True),\n",
    "    types.StructField('service_zone', types.StringType(), True)\n",
    "])\n",
    "\n",
    "zones_df = (\n",
    "    spark.read\n",
    "    .option(\"header\", \"True\")\n",
    "    .schema(zones_schema)\n",
    "    .csv(input_path)\n",
    ")\n",
    "\n",
    "zones_df.write.parquet(output_path, mode=\"overwrite\")\n",
    "\n",
    "zones_df.createOrReplaceTempView(\"zones\")"
   ]
  },
  {
   "cell_type": "code",
   "execution_count": 16,
   "metadata": {},
   "outputs": [
    {
     "name": "stderr",
     "output_type": "stream",
     "text": [
      "[Stage 15:>                                                         (0 + 1) / 1]\r"
     ]
    },
    {
     "name": "stdout",
     "output_type": "stream",
     "text": [
      "+-----------+\n",
      "|trips_count|\n",
      "+-----------+\n",
      "|     452470|\n",
      "+-----------+\n",
      "\n"
     ]
    },
    {
     "name": "stderr",
     "output_type": "stream",
     "text": [
      "                                                                                \r"
     ]
    }
   ],
   "source": [
    "spark.sql(\"\"\"\n",
    "select\n",
    "    count(*) as trips_count\n",
    "from\n",
    "    fhvhv_trips\n",
    "where\n",
    "    cast(pickup_datetime as date) = '2021-06-15'\n",
    "\"\"\").show()"
   ]
  },
  {
   "cell_type": "code",
   "execution_count": 50,
   "metadata": {},
   "outputs": [
    {
     "name": "stderr",
     "output_type": "stream",
     "text": [
      "[Stage 64:>                                                         (0 + 1) / 1]\r"
     ]
    },
    {
     "name": "stdout",
     "output_type": "stream",
     "text": [
      "+-----------+\n",
      "|trips_count|\n",
      "+-----------+\n",
      "|     452470|\n",
      "+-----------+\n",
      "\n"
     ]
    },
    {
     "name": "stderr",
     "output_type": "stream",
     "text": [
      "                                                                                \r"
     ]
    }
   ],
   "source": [
    "fhvhv_count_df = (\n",
    "    fhvhv_df\n",
    "    .filter(F.col(\"pickup_datetime\").cast(\"date\") == '2021-06-15')\n",
    "    .select(F.count(\"*\").alias(\"trips_count\"))\n",
    ").show()"
   ]
  },
  {
   "cell_type": "code",
   "execution_count": 17,
   "metadata": {},
   "outputs": [
    {
     "name": "stderr",
     "output_type": "stream",
     "text": [
      "[Stage 18:>                                                         (0 + 1) / 1]\r"
     ]
    },
    {
     "name": "stdout",
     "output_type": "stream",
     "text": [
      "+-----------------------+\n",
      "|max_trip_duration_hours|\n",
      "+-----------------------+\n",
      "|                  66.88|\n",
      "+-----------------------+\n",
      "\n"
     ]
    },
    {
     "name": "stderr",
     "output_type": "stream",
     "text": [
      "                                                                                \r"
     ]
    }
   ],
   "source": [
    "spark.sql(\"\"\"\n",
    "select \n",
    "    round(max(\n",
    "        cast(dropoff_datetime - pickup_datetime as bigint) / 3600\n",
    "    ), 2) as max_trip_duration_hours \n",
    "from \n",
    "    fhvhv_trips\n",
    "\"\"\").show()"
   ]
  },
  {
   "cell_type": "code",
   "execution_count": 41,
   "metadata": {},
   "outputs": [
    {
     "name": "stderr",
     "output_type": "stream",
     "text": [
      "[Stage 47:>                                                         (0 + 1) / 1]\r"
     ]
    },
    {
     "name": "stdout",
     "output_type": "stream",
     "text": [
      "+-----------------------+\n",
      "|max_trip_duration_hours|\n",
      "+-----------------------+\n",
      "|66.88                  |\n",
      "+-----------------------+\n",
      "\n"
     ]
    },
    {
     "name": "stderr",
     "output_type": "stream",
     "text": [
      "                                                                                \r"
     ]
    }
   ],
   "source": [
    "max_duration_fhvhv_df = (\n",
    "    fhvhv_df\n",
    "    .withColumn(\n",
    "        \"trip_duration_hours\", \n",
    "        (F.col(\"dropoff_datetime\") - F.col(\"pickup_datetime\")).cast(\"bigint\") / 3600\n",
    "    )\n",
    "    .select(\n",
    "        F.round(F.max(F.col(\"trip_duration_hours\")), 2).alias(\"max_trip_duration_hours\")\n",
    "    )\n",
    ").show(truncate=False)"
   ]
  },
  {
   "cell_type": "code",
   "execution_count": 18,
   "metadata": {},
   "outputs": [
    {
     "name": "stderr",
     "output_type": "stream",
     "text": [
      "[Stage 22:>                                                         (0 + 1) / 1]\r"
     ]
    },
    {
     "name": "stdout",
     "output_type": "stream",
     "text": [
      "+-------------------+\n",
      "|          zone_name|\n",
      "+-------------------+\n",
      "|Crown Heights North|\n",
      "+-------------------+\n",
      "\n"
     ]
    },
    {
     "name": "stderr",
     "output_type": "stream",
     "text": [
      "                                                                                \r"
     ]
    }
   ],
   "source": [
    "spark.sql(\"\"\"\n",
    "select \n",
    "    z.Zone as zone_name\n",
    "from \n",
    "    fhvhv_trips ft\n",
    "    join zones z on ft.PULocationID = z.LocationID\n",
    "group by\n",
    "    z.Zone\n",
    "order by\n",
    "    count(*) desc\n",
    "limit\n",
    "    1\n",
    "\"\"\").show()"
   ]
  },
  {
   "cell_type": "code",
   "execution_count": 46,
   "metadata": {},
   "outputs": [
    {
     "name": "stderr",
     "output_type": "stream",
     "text": [
      "[Stage 55:>                                                         (0 + 1) / 1]\r"
     ]
    },
    {
     "name": "stdout",
     "output_type": "stream",
     "text": [
      "+-------------------+\n",
      "|zone_name          |\n",
      "+-------------------+\n",
      "|Crown Heights North|\n",
      "+-------------------+\n",
      "\n"
     ]
    },
    {
     "name": "stderr",
     "output_type": "stream",
     "text": [
      "                                                                                \r"
     ]
    }
   ],
   "source": [
    "frequent_zone_df = (\n",
    "    fhvhv_df\n",
    "    .join(zones_df, fhvhv_df.PULocationID == zones_df.LocationID, how=\"inner\")\n",
    "    .groupBy(F.col(\"Zone\"))\n",
    "    .agg(F.count(\"*\").alias(\"trips_count\"))\n",
    "    .select(F.col(\"Zone\").alias(\"zone_name\"))\n",
    "    .orderBy(F.col(\"trips_count\").desc())\n",
    "    .limit(1)\n",
    ").show(truncate=False)"
   ]
  }
 ],
 "metadata": {
  "kernelspec": {
   "display_name": "base",
   "language": "python",
   "name": "python3"
  },
  "language_info": {
   "codemirror_mode": {
    "name": "ipython",
    "version": 3
   },
   "file_extension": ".py",
   "mimetype": "text/x-python",
   "name": "python",
   "nbconvert_exporter": "python",
   "pygments_lexer": "ipython3",
   "version": "3.9.13"
  },
  "orig_nbformat": 4
 },
 "nbformat": 4,
 "nbformat_minor": 2
}
